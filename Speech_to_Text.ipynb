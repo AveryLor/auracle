{
  "nbformat": 4,
  "nbformat_minor": 0,
  "metadata": {
    "colab": {
      "provenance": []
    },
    "kernelspec": {
      "name": "python3",
      "display_name": "Python 3"
    },
    "language_info": {
      "name": "python"
    }
  },
  "cells": [
    {
      "cell_type": "code",
      "execution_count": 1,
      "metadata": {
        "id": "sN6uMMXWcEHl"
      },
      "outputs": [],
      "source": [
        "from transformers import pipeline"
      ]
    },
    {
      "cell_type": "code",
      "source": [
        "cls = pipeline(\"automatic-speech-recognition\")"
      ],
      "metadata": {
        "id": "KxMoXh9aczVA"
      },
      "execution_count": null,
      "outputs": []
    },
    {
      "cell_type": "code",
      "source": [
        "res =  cls('/content/WhatsApp Ptt 2025-02-15 at 9.04.54 PM.ogg') #replace with the audio received from Arduino Sound Sensor Module"
      ],
      "metadata": {
        "id": "SWC6-6KodWDj"
      },
      "execution_count": 6,
      "outputs": []
    },
    {
      "cell_type": "code",
      "source": [
        "print(res)"
      ],
      "metadata": {
        "id": "f1Wh0jv3eVsv"
      },
      "execution_count": null,
      "outputs": []
    }
  ]
}