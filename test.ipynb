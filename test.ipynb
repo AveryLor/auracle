{
  "nbformat": 4,
  "nbformat_minor": 0,
  "metadata": {
    "colab": {
      "provenance": []
    },
    "kernelspec": {
      "name": "python3",
      "display_name": "Python 3"
    },
    "language_info": {
      "name": "python"
    }
  },
  "cells": [
    {
      "cell_type": "code",
      "execution_count": null,
      "metadata": {
        "colab": {
          "base_uri": "https://localhost:8080/"
        },
        "id": "epwb1BZ0V0WG",
        "outputId": "d221458c-9ade-4f4c-da2c-9f0f6c0370b5"
      },
      "outputs": [
        {
          "output_type": "stream",
          "name": "stdout",
          "text": [
            "Mounted at /content/drive\n"
          ]
        }
      ],
      "source": [
        "from google.colab import drive\n",
        "drive.mount('/content/drive')"
      ]
    },
    {
      "cell_type": "code",
      "source": [
        "from IPython.core.display import Javascript\n",
        "\n",
        "def run_current_cell():\n",
        "    display(Javascript('IPython.notebook.execute_cells([IPython.notebook.get_selected_index()])'))\n",
        "\n"
      ],
      "metadata": {
        "id": "s59xY4l5Tqnj"
      },
      "execution_count": null,
      "outputs": []
    },
    {
      "cell_type": "code",
      "source": [
        "import pandas as pd\n",
        "\n",
        "file_path = '/content/drive/My Drive/sensor_data.csv'\n",
        "df = pd.read_csv(file_path)\n",
        "# print(df.tail())\n",
        "values = df.tail()[\"value\"]\n",
        "print(values)\n"
      ],
      "metadata": {
        "colab": {
          "base_uri": "https://localhost:8080/"
        },
        "id": "4xhpWKw1XME7",
        "outputId": "44d386d1-9438-4f5e-c970-5a34a9d2093d"
      },
      "execution_count": 168,
      "outputs": [
        {
          "output_type": "stream",
          "name": "stdout",
          "text": [
            "14         back\n",
            "15         stop\n",
            "16         stop\n",
            "17        front\n",
            "18    play next\n",
            "Name: value, dtype: object\n"
          ]
        }
      ]
    },
    {
      "cell_type": "code",
      "source": [],
      "metadata": {
        "id": "rb8s4MjhTpSZ"
      },
      "execution_count": null,
      "outputs": []
    },
    {
      "cell_type": "code",
      "source": [
        "import os\n",
        "print(os.listdir('/content'))"
      ],
      "metadata": {
        "colab": {
          "base_uri": "https://localhost:8080/"
        },
        "id": "B5gL3ysAXfZF",
        "outputId": "ae594672-4e68-468a-d94a-d5d988678e19"
      },
      "execution_count": null,
      "outputs": [
        {
          "output_type": "stream",
          "name": "stdout",
          "text": [
            "['.config', 'sample_data']\n"
          ]
        }
      ]
    }
  ]
}