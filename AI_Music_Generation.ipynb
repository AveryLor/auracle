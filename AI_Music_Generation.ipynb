{
  "nbformat": 4,
  "nbformat_minor": 0,
  "metadata": {
    "colab": {
      "provenance": []
    },
    "kernelspec": {
      "name": "python3",
      "display_name": "Python 3"
    },
    "language_info": {
      "name": "python"
    }
  },
  "cells": [
    {
      "cell_type": "code",
      "execution_count": null,
      "metadata": {
        "id": "6UOjC248krr6"
      },
      "outputs": [],
      "source": [
        "pip install audiocraft"
      ]
    },
    {
      "cell_type": "code",
      "source": [
        "pip install streamlit"
      ],
      "metadata": {
        "id": "vWGBwi5kkv5I"
      },
      "execution_count": null,
      "outputs": []
    },
    {
      "cell_type": "code",
      "source": [
        "from audiocraft.models import MusicGen\n",
        "import streamlit as st\n",
        "import torch\n",
        "import torchaudio\n",
        "import os\n",
        "import numpy as np\n",
        "import base64\n",
        "\n",
        "#Uses st.cache_resource to cache the model, so it does not reload every time the user interacts with the app.\n",
        "@st.cache_resource\n",
        "def load_model():\n",
        "    Music_model = MusicGen.get_pretrained('facebook/musicgen-small')\n",
        "    return Music_model\n",
        "\n",
        "def generate_music_tensors(description, duration: int):\n",
        "    print(\"Description: \", description)\n",
        "    print(\"Duration: \", duration)\n",
        "    model = load_model()\n",
        "\n",
        "    model.set_generation_params(\n",
        "        use_sampling=True,\n",
        "        top_k=250,\n",
        "        duration=duration\n",
        "    )\n",
        "\n",
        "    output = model.generate(\n",
        "        descriptions=[description],\n",
        "        progress=True,\n",
        "        return_tokens=True\n",
        "    )\n",
        "\n",
        "    return output[0]\n",
        "\n",
        "\n",
        "# Streamlit: Replace with Avery's UI\n",
        "st.set_page_config(\n",
        "    page_icon= \"musical_note\",\n",
        "    page_title= \"Music Gen\"\n",
        ")\n",
        "\n",
        "def main():\n",
        "\n",
        "    st.title(\"Text to Music Generator🎵\")\n",
        "\n",
        "    with st.expander(\"See explanation\"):\n",
        "        st.write(\"Music Generator app built using Meta's Audiocraft library. We are using Music Gen Small model.\")\n",
        "\n",
        "    text_area = st.text_area(\"Enter your description.......\")\n",
        "    time_slider = st.slider(\"Select time duration (In Seconds)\", 0, 20, 10)\n",
        "\n",
        "    if text_area and time_slider:\n",
        "        st.json({\n",
        "            'Your Description': text_area,\n",
        "            'Selected Time Duration (in Seconds)': time_slider\n",
        "        })\n",
        "\n",
        "        st.subheader(\"Generated Music\")\n",
        "        music_tensors = generate_music_tensors(text_area, time_slider)\n",
        "        print(\"Musci Tensors: \", music_tensors)\n",
        "        save_music_file = save_audio(music_tensors)\n",
        "        audio_filepath = 'audio_output/audio_0.wav'\n",
        "        audio_file = open(audio_filepath, 'rb')\n",
        "        audio_bytes = audio_file.read()\n",
        "        st.audio(audio_bytes)\n",
        "        st.markdown(get_binary_file_downloader_html(audio_filepath, 'Audio'), unsafe_allow_html=True)\n",
        "\n",
        "\n",
        "if __name__ == \"__main__\":\n",
        "    main()\n",
        "\n",
        "\n"
      ],
      "metadata": {
        "id": "frUVT_xzk0Ud"
      },
      "execution_count": null,
      "outputs": []
    },
    {
      "cell_type": "code",
      "source": [
        "!streamlit run /usr/local/lib/python3.11/dist-packages/colab_kernel_launcher.py"
      ],
      "metadata": {
        "id": "cGhLyJjVk8Ke"
      },
      "execution_count": null,
      "outputs": []
    }
  ]
}